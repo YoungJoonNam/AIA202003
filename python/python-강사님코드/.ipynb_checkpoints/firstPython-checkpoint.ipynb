{
 "cells": [
  {
   "cell_type": "code",
   "execution_count": 3,
   "metadata": {
    "ExecuteTime": {
     "end_time": "2020-08-26T00:55:15.162128Z",
     "start_time": "2020-08-26T00:55:15.158106Z"
    }
   },
   "outputs": [
    {
     "name": "stdout",
     "output_type": "stream",
     "text": [
      "['False', 'None', 'True', 'and', 'as', 'assert', 'async', 'await', 'break', 'class', 'continue', 'def', 'del', 'elif', 'else', 'except', 'finally', 'for', 'from', 'global', 'if', 'import', 'in', 'is', 'lambda', 'nonlocal', 'not', 'or', 'pass', 'raise', 'return', 'try', 'while', 'with', 'yield']\n"
     ]
    }
   ],
   "source": [
    "import keyword\n",
    "\n",
    "print(keyword.kwlist)"
   ]
  },
  {
   "cell_type": "code",
   "execution_count": 4,
   "metadata": {
    "ExecuteTime": {
     "end_time": "2020-08-26T01:05:53.707218Z",
     "start_time": "2020-08-26T01:05:53.703229Z"
    }
   },
   "outputs": [
    {
     "name": "stdout",
     "output_type": "stream",
     "text": [
      "안녕하세요\n",
      "저는 유영진 입니다.\n",
      "반갑습니다.\n"
     ]
    }
   ],
   "source": [
    "print(\"\"\"안녕하세요\n",
    "저는 유영진 입니다.\n",
    "반갑습니다.\"\"\")"
   ]
  },
  {
   "cell_type": "code",
   "execution_count": 6,
   "metadata": {
    "ExecuteTime": {
     "end_time": "2020-08-26T01:06:33.815111Z",
     "start_time": "2020-08-26T01:06:33.810125Z"
    }
   },
   "outputs": [
    {
     "name": "stdout",
     "output_type": "stream",
     "text": [
      "안녕하세요.\n",
      " 저는 유영진 입니다.\n",
      " 반갑습니다.\n"
     ]
    }
   ],
   "source": [
    "print(\"안녕하세요.\\n 저는 유영진 입니다.\\n 반갑습니다.\")"
   ]
  },
  {
   "cell_type": "code",
   "execution_count": 7,
   "metadata": {
    "ExecuteTime": {
     "end_time": "2020-08-26T01:10:05.513159Z",
     "start_time": "2020-08-26T01:10:05.509169Z"
    }
   },
   "outputs": [
    {
     "name": "stdout",
     "output_type": "stream",
     "text": [
      "안녕하세요!안녕하세요!안녕하세요!\n"
     ]
    }
   ],
   "source": [
    "print('안녕하세요!'*3)"
   ]
  },
  {
   "cell_type": "code",
   "execution_count": 10,
   "metadata": {
    "ExecuteTime": {
     "end_time": "2020-08-26T01:11:39.312769Z",
     "start_time": "2020-08-26T01:11:39.302797Z"
    }
   },
   "outputs": [
    {
     "ename": "TypeError",
     "evalue": "can only concatenate str (not \"int\") to str",
     "output_type": "error",
     "traceback": [
      "\u001b[1;31m---------------------------------------------------------------------------\u001b[0m",
      "\u001b[1;31mTypeError\u001b[0m                                 Traceback (most recent call last)",
      "\u001b[1;32m<ipython-input-10-598da996a6f6>\u001b[0m in \u001b[0;36m<module>\u001b[1;34m\u001b[0m\n\u001b[1;32m----> 1\u001b[1;33m \u001b[1;34m'안녕하세요'\u001b[0m \u001b[1;33m+\u001b[0m \u001b[1;36m1\u001b[0m\u001b[1;33m\u001b[0m\u001b[1;33m\u001b[0m\u001b[0m\n\u001b[0m",
      "\u001b[1;31mTypeError\u001b[0m: can only concatenate str (not \"int\") to str"
     ]
    }
   ],
   "source": [
    "'안녕하세요' + 1"
   ]
  },
  {
   "cell_type": "code",
   "execution_count": 11,
   "metadata": {
    "ExecuteTime": {
     "end_time": "2020-08-26T01:15:08.254884Z",
     "start_time": "2020-08-26T01:15:08.250896Z"
    }
   },
   "outputs": [],
   "source": [
    "hello = '안녕하세요'"
   ]
  },
  {
   "cell_type": "code",
   "execution_count": 12,
   "metadata": {
    "ExecuteTime": {
     "end_time": "2020-08-26T01:15:26.753161Z",
     "start_time": "2020-08-26T01:15:26.748174Z"
    }
   },
   "outputs": [
    {
     "data": {
      "text/plain": [
       "str"
      ]
     },
     "execution_count": 12,
     "metadata": {},
     "output_type": "execute_result"
    }
   ],
   "source": [
    "type(hello)"
   ]
  },
  {
   "cell_type": "code",
   "execution_count": 15,
   "metadata": {
    "ExecuteTime": {
     "end_time": "2020-08-26T01:18:48.984181Z",
     "start_time": "2020-08-26T01:18:48.979194Z"
    }
   },
   "outputs": [
    {
     "name": "stdout",
     "output_type": "stream",
     "text": [
      "안\n",
      "녕\n",
      "하\n",
      "세\n",
      "요\n"
     ]
    }
   ],
   "source": [
    "print(hello[0])\n",
    "print(hello[1])\n",
    "print(hello[2])\n",
    "print(hello[3])\n",
    "print(hello[4])\n",
    "# print(hello[5])"
   ]
  },
  {
   "cell_type": "code",
   "execution_count": 19,
   "metadata": {
    "ExecuteTime": {
     "end_time": "2020-08-26T01:20:55.042770Z",
     "start_time": "2020-08-26T01:20:55.037784Z"
    }
   },
   "outputs": [
    {
     "name": "stdout",
     "output_type": "stream",
     "text": [
      "요\n",
      "세\n",
      "하\n",
      "녕\n",
      "안\n"
     ]
    }
   ],
   "source": [
    "print(hello[-1])\n",
    "print(hello[-2])\n",
    "print(hello[-3])\n",
    "print(hello[-4])\n",
    "print(hello[-5])\n",
    "#print(hello[-6])"
   ]
  },
  {
   "cell_type": "code",
   "execution_count": 28,
   "metadata": {
    "ExecuteTime": {
     "end_time": "2020-08-26T01:41:37.876038Z",
     "start_time": "2020-08-26T01:41:37.871050Z"
    }
   },
   "outputs": [
    {
     "name": "stdout",
     "output_type": "stream",
     "text": [
      "안녕하세요\n",
      "녕하세\n",
      "안녕하세\n",
      "녕하세요\n",
      "\n"
     ]
    }
   ],
   "source": [
    "print(hello)\n",
    "print(hello[1:4])\n",
    "print(hello[:4])\n",
    "print(hello[1:])\n",
    "print(hello[10:])"
   ]
  },
  {
   "cell_type": "code",
   "execution_count": 33,
   "metadata": {
    "ExecuteTime": {
     "end_time": "2020-08-26T01:48:58.784802Z",
     "start_time": "2020-08-26T01:48:58.777819Z"
    }
   },
   "outputs": [
    {
     "data": {
      "text/plain": [
       "3"
      ]
     },
     "execution_count": 33,
     "metadata": {},
     "output_type": "execute_result"
    }
   ],
   "source": [
    "10//3   # 정수 연산"
   ]
  },
  {
   "cell_type": "code",
   "execution_count": 35,
   "metadata": {
    "ExecuteTime": {
     "end_time": "2020-08-26T01:50:32.665695Z",
     "start_time": "2020-08-26T01:50:32.658716Z"
    }
   },
   "outputs": [
    {
     "data": {
      "text/plain": [
       "16"
      ]
     },
     "execution_count": 35,
     "metadata": {},
     "output_type": "execute_result"
    }
   ],
   "source": [
    "2**4   # 제곱 연산자"
   ]
  },
  {
   "cell_type": "code",
   "execution_count": 37,
   "metadata": {
    "ExecuteTime": {
     "end_time": "2020-08-26T01:58:03.730539Z",
     "start_time": "2020-08-26T01:57:59.435992Z"
    }
   },
   "outputs": [
    {
     "name": "stdout",
     "output_type": "stream",
     "text": [
      "숫자를 입력해주세요100\n"
     ]
    }
   ],
   "source": [
    "num = input('숫자를 입력해주세요')"
   ]
  },
  {
   "cell_type": "code",
   "execution_count": 39,
   "metadata": {
    "ExecuteTime": {
     "end_time": "2020-08-26T01:58:31.746312Z",
     "start_time": "2020-08-26T01:58:31.740327Z"
    }
   },
   "outputs": [
    {
     "data": {
      "text/plain": [
       "str"
      ]
     },
     "execution_count": 39,
     "metadata": {},
     "output_type": "execute_result"
    }
   ],
   "source": [
    "type(num)"
   ]
  },
  {
   "cell_type": "code",
   "execution_count": 43,
   "metadata": {
    "ExecuteTime": {
     "end_time": "2020-08-26T02:07:43.484446Z",
     "start_time": "2020-08-26T02:07:33.270609Z"
    }
   },
   "outputs": [
    {
     "name": "stdout",
     "output_type": "stream",
     "text": [
      "첫번째 숫자를 입력해주세요 >> test\n"
     ]
    },
    {
     "ename": "ValueError",
     "evalue": "could not convert string to float: 'test'",
     "output_type": "error",
     "traceback": [
      "\u001b[1;31m---------------------------------------------------------------------------\u001b[0m",
      "\u001b[1;31mValueError\u001b[0m                                Traceback (most recent call last)",
      "\u001b[1;32m<ipython-input-43-6582abf96966>\u001b[0m in \u001b[0;36m<module>\u001b[1;34m\u001b[0m\n\u001b[0;32m      2\u001b[0m \u001b[1;31m#input_b = float(input('두번째 숫자를 입력해주세요 >> '))\u001b[0m\u001b[1;33m\u001b[0m\u001b[1;33m\u001b[0m\u001b[1;33m\u001b[0m\u001b[0m\n\u001b[0;32m      3\u001b[0m \u001b[1;33m\u001b[0m\u001b[0m\n\u001b[1;32m----> 4\u001b[1;33m \u001b[0minput_a\u001b[0m \u001b[1;33m=\u001b[0m \u001b[0mfloat\u001b[0m\u001b[1;33m(\u001b[0m\u001b[0minput\u001b[0m\u001b[1;33m(\u001b[0m\u001b[1;34m'첫번째 숫자를 입력해주세요 >> '\u001b[0m\u001b[1;33m)\u001b[0m\u001b[1;33m)\u001b[0m\u001b[1;33m\u001b[0m\u001b[1;33m\u001b[0m\u001b[0m\n\u001b[0m\u001b[0;32m      5\u001b[0m \u001b[0minput_b\u001b[0m \u001b[1;33m=\u001b[0m \u001b[0mint\u001b[0m\u001b[1;33m(\u001b[0m\u001b[0minput\u001b[0m\u001b[1;33m(\u001b[0m\u001b[1;34m'두번째 숫자를 입력해주세요 >> '\u001b[0m\u001b[1;33m)\u001b[0m\u001b[1;33m)\u001b[0m\u001b[1;33m\u001b[0m\u001b[1;33m\u001b[0m\u001b[0m\n\u001b[0;32m      6\u001b[0m \u001b[1;33m\u001b[0m\u001b[0m\n",
      "\u001b[1;31mValueError\u001b[0m: could not convert string to float: 'test'"
     ]
    }
   ],
   "source": [
    "#input_a = float(input('첫번째 숫자를 입력해주세요 >> '))\n",
    "#input_b = float(input('두번째 숫자를 입력해주세요 >> '))\n",
    "\n",
    "input_a = float(input('첫번째 숫자를 입력해주세요 >> '))\n",
    "input_b = int(input('두번째 숫자를 입력해주세요 >> '))\n",
    "\n",
    "print(\"+\", input_a+input_b)\n",
    "print(\"-\", input_a-input_b)\n",
    "print(\"*\", input_a*input_b)\n",
    "print(\"/\", input_a/input_b)\n",
    "print(\"//\", input_a//input_b)\n",
    "print(\"%\", input_a%input_b)"
   ]
  },
  {
   "cell_type": "code",
   "execution_count": 45,
   "metadata": {
    "ExecuteTime": {
     "end_time": "2020-08-26T02:14:50.771768Z",
     "start_time": "2020-08-26T02:14:50.765784Z"
    }
   },
   "outputs": [
    {
     "name": "stdout",
     "output_type": "stream",
     "text": [
      "Rest URL : http//localhost:8088/member\n"
     ]
    }
   ],
   "source": [
    "url_str = 'http//{}:{}/{}'.format('localhost', 8088, 'member')\n",
    "print('Rest URL :', url_str)"
   ]
  },
  {
   "cell_type": "code",
   "execution_count": 49,
   "metadata": {
    "ExecuteTime": {
     "end_time": "2020-08-26T02:59:29.106148Z",
     "start_time": "2020-08-26T02:59:26.530889Z"
    },
    "code_folding": [
     3
    ]
   },
   "outputs": [
    {
     "name": "stdout",
     "output_type": "stream",
     "text": [
      "정수를 입력해주세요 >>10\n",
      "10 는 양의 정수입니다.\n",
      "110\n"
     ]
    }
   ],
   "source": [
    "number = int(input('정수를 입력해주세요 >>'))\n",
    "\n",
    "# 양의 정수 판별\n",
    "if number>0 :\n",
    "    print(number, '는 양의 정수입니다.')\n",
    "    number += 100\n",
    "    print(number)\n",
    "    \n",
    "# 음의 정수 판별\n",
    "if number<0 :\n",
    "    print(number, '는 음의 정수입니다.')\n",
    "    \n",
    "# 숫자 0 판별\n",
    "if number==0 :\n",
    "    print(number, '는 0입니다.')"
   ]
  },
  {
   "cell_type": "code",
   "execution_count": 50,
   "metadata": {
    "ExecuteTime": {
     "end_time": "2020-08-26T03:07:47.806254Z",
     "start_time": "2020-08-26T03:07:47.803264Z"
    }
   },
   "outputs": [],
   "source": [
    "import datetime"
   ]
  },
  {
   "cell_type": "code",
   "execution_count": 52,
   "metadata": {
    "ExecuteTime": {
     "end_time": "2020-08-26T03:09:42.728710Z",
     "start_time": "2020-08-26T03:09:42.724719Z"
    }
   },
   "outputs": [],
   "source": [
    "now = datetime.datetime.now()"
   ]
  },
  {
   "cell_type": "code",
   "execution_count": 56,
   "metadata": {
    "ExecuteTime": {
     "end_time": "2020-08-26T03:13:05.566889Z",
     "start_time": "2020-08-26T03:13:05.559906Z"
    }
   },
   "outputs": [],
   "source": [
    "now_str = '{}년 {}월 {}일 {}:{}:{}'.format(now.year, now.month, now.day, now.hour, now.minute, now.second)\n",
    "now_str2 = '{}.{}.{} {}:{}:{}'.format(now.year, now.month, now.day, now.hour, now.minute, now.second)"
   ]
  },
  {
   "cell_type": "code",
   "execution_count": 57,
   "metadata": {
    "ExecuteTime": {
     "end_time": "2020-08-26T03:13:07.741810Z",
     "start_time": "2020-08-26T03:13:07.737818Z"
    }
   },
   "outputs": [
    {
     "name": "stdout",
     "output_type": "stream",
     "text": [
      "2020년 8월 26일 12:9:42\n",
      "2020.8.26 12:9:42\n"
     ]
    }
   ],
   "source": [
    "print(now_str)\n",
    "print(now_str2)"
   ]
  },
  {
   "cell_type": "code",
   "execution_count": 58,
   "metadata": {
    "ExecuteTime": {
     "end_time": "2020-08-26T03:16:11.338042Z",
     "start_time": "2020-08-26T03:16:11.332057Z"
    }
   },
   "outputs": [
    {
     "name": "stdout",
     "output_type": "stream",
     "text": [
      "뜨거운 여름입니다.\n"
     ]
    }
   ],
   "source": [
    "if  3 <= now.month <= 5 :\n",
    "    print('봄이 왔어요')\n",
    "    \n",
    "if 6 <= now.month <=9 :\n",
    "    print('뜨거운 여름입니다.')"
   ]
  },
  {
   "cell_type": "code",
   "execution_count": 61,
   "metadata": {
    "ExecuteTime": {
     "end_time": "2020-08-26T03:43:39.715657Z",
     "start_time": "2020-08-26T03:43:37.392483Z"
    }
   },
   "outputs": [
    {
     "name": "stdout",
     "output_type": "stream",
     "text": [
      "정수를 입력해주세요 >>> 10\n",
      "짝수\n"
     ]
    }
   ],
   "source": [
    "# 숫자 입력\n",
    "number = input('정수를 입력해주세요 >>> ')\n",
    "last_number = number[-1] \n",
    "\n",
    "# 짝수 조건\n",
    "if last_number in '02468':   # 10 ?\n",
    "    print('짝수')\n",
    "    \n",
    "if last_number in '1357':\n",
    "    print('홀수')\n",
    "    \n",
    "#if last_number == '0':\n",
    "#    print(0)"
   ]
  },
  {
   "cell_type": "code",
   "execution_count": 65,
   "metadata": {
    "ExecuteTime": {
     "end_time": "2020-08-26T03:46:46.818663Z",
     "start_time": "2020-08-26T03:46:44.864048Z"
    }
   },
   "outputs": [
    {
     "name": "stdout",
     "output_type": "stream",
     "text": [
      "정수입력 >>12\n",
      "짝수\n"
     ]
    }
   ],
   "source": [
    "# 숫자 입력\n",
    "number = int(input('정수입력 >>'))\n",
    "\n",
    "if number%2 == 0 :\n",
    "    print('짝수')\n",
    "else :\n",
    "    print('홀수')"
   ]
  },
  {
   "cell_type": "code",
   "execution_count": 69,
   "metadata": {
    "ExecuteTime": {
     "end_time": "2020-08-26T03:50:36.796005Z",
     "start_time": "2020-08-26T03:50:33.926904Z"
    }
   },
   "outputs": [
    {
     "name": "stdout",
     "output_type": "stream",
     "text": [
      "정수입력 >>21\n",
      "홀수 입니다.\n"
     ]
    }
   ],
   "source": [
    "# 숫자 입력\n",
    "number = int(input('정수입력 >>'))\n",
    "\n",
    "if number == 0 :\n",
    "    print('0 입니다.')\n",
    "elif number%2 == 0 :   # else if()\n",
    "    print('짝수 입니다.')\n",
    "#elif number%2 != 0 :\n",
    "else :\n",
    "    print('홀수 입니다.')\n"
   ]
  },
  {
   "cell_type": "code",
   "execution_count": 77,
   "metadata": {
    "ExecuteTime": {
     "end_time": "2020-08-26T03:57:05.514424Z",
     "start_time": "2020-08-26T03:57:05.508439Z"
    }
   },
   "outputs": [
    {
     "name": "stdout",
     "output_type": "stream",
     "text": [
      "False\n",
      "False\n",
      "False\n"
     ]
    }
   ],
   "source": [
    "if 0 :\n",
    "    print(True)\n",
    "else : \n",
    "    print(False)\n",
    "    \n",
    "if '' :\n",
    "    print(True)\n",
    "else : \n",
    "    print(False)\n",
    "\n",
    "# {} []\n",
    "    \n",
    "list_number = []\n",
    "    \n",
    "if list_number :\n",
    "    print(True)\n",
    "else : \n",
    "    print(False)"
   ]
  },
  {
   "cell_type": "code",
   "execution_count": 80,
   "metadata": {
    "ExecuteTime": {
     "end_time": "2020-08-26T04:01:18.714659Z",
     "start_time": "2020-08-26T04:01:18.709674Z"
    }
   },
   "outputs": [],
   "source": [
    "number = 20\n",
    "\n",
    "if number >= 19 : \n",
    "    pass    # 처리 구문이 없을때 에러를 발생시키지 않도록 합니다.\n",
    "else :\n",
    "    print('투표가 불가능합니다.')\n"
   ]
  },
  {
   "cell_type": "code",
   "execution_count": 9,
   "metadata": {
    "ExecuteTime": {
     "end_time": "2020-08-27T01:25:29.515272Z",
     "start_time": "2020-08-27T01:25:29.507260Z"
    }
   },
   "outputs": [
    {
     "name": "stdout",
     "output_type": "stream",
     "text": [
      "문자열\n",
      "자\n",
      "[1, 10, 100, 1000]\n",
      "100\n",
      "<class 'list'> [1000, 10.5, True, False, {}, '문자열', [1, 10, 100, 1000]]\n"
     ]
    }
   ],
   "source": [
    "array = [10, 10.5, True, False, {}, '문자열', [1,10,100,1000]] # list 선언\n",
    "\n",
    "array[0] = 1000 # list 요소 참조\n",
    "\n",
    "print(array[-2]) # 인덱스 역순 참조\n",
    "print(array[-2][1])\n",
    "\n",
    "print(array[-1])\n",
    "print(array[-1][2])\n",
    "\n",
    "print(type(array), array)"
   ]
  },
  {
   "cell_type": "code",
   "execution_count": 5,
   "metadata": {
    "ExecuteTime": {
     "end_time": "2020-08-27T01:17:38.513303Z",
     "start_time": "2020-08-27T01:17:38.508314Z"
    }
   },
   "outputs": [
    {
     "data": {
      "text/plain": [
       "[10, 10.5, True, False]"
      ]
     },
     "execution_count": 5,
     "metadata": {},
     "output_type": "execute_result"
    }
   ],
   "source": [
    "array[0:4]"
   ]
  },
  {
   "cell_type": "code",
   "execution_count": 9,
   "metadata": {
    "ExecuteTime": {
     "end_time": "2020-08-27T09:13:51.383045Z",
     "start_time": "2020-08-27T09:13:51.371045Z"
    }
   },
   "outputs": [
    {
     "name": "stdout",
     "output_type": "stream",
     "text": [
      "[1, 2, 3]\n",
      "[1, 2, 3, 1, 2, 3]\n",
      "[1, 2, 3, 1, 2, 3, 1, 2, 3, 1, 2, 3]\n",
      "[1, 2, 3, 4, 5]\n",
      "[1, 2, 1000, 3, 4, 5]\n",
      "[2, 1000, 3, 4, 5]\n",
      "[2, 3, 4, 5]\n"
     ]
    }
   ],
   "source": [
    "list_a = [1,2,3]\n",
    "\n",
    "print(list_a)\n",
    "print(list_a+list_a)  # list의 + 연산자\n",
    "print(list_a*4)       # list의 * 연산자\n",
    "\n",
    "# list에 요소 추가 : append - 요소를 맨 뒤에 추가\n",
    "list_a.append(4)\n",
    "list_a.append(5)\n",
    "\n",
    "print(list_a)\n",
    "\n",
    "# list에 요소 추가 : insert -특정 위치에 요소를 삽입\n",
    "list_a.insert(2, 1000)\n",
    "\n",
    "print(list_a)\n",
    "\n",
    "# list 요소의 삭제 : del 사용\n",
    "del list_a[0]\n",
    "\n",
    "print(list_a)\n",
    "\n",
    "# list 요소 삭제 : pop() 사용\n",
    "list_a.pop(1)\n",
    "\n",
    "print(list_a)\n",
    "\n",
    "\n"
   ]
  },
  {
   "cell_type": "code",
   "execution_count": 10,
   "metadata": {
    "ExecuteTime": {
     "end_time": "2020-08-27T09:13:54.110045Z",
     "start_time": "2020-08-27T09:13:54.100045Z"
    }
   },
   "outputs": [
    {
     "name": "stdout",
     "output_type": "stream",
     "text": [
      "[1, 2, 3, 9, 0, 1, 2]\n",
      "[9, 0, 1, 2]\n",
      "[9]\n"
     ]
    }
   ],
   "source": [
    "list_b = [1,2,3,4,5,6,7,8,9,0,1,2]\n",
    "\n",
    "# list의 범위안의 요소 삭제\n",
    "del list_b[3:8]\n",
    "print(list_b)\n",
    "\n",
    "del list_b[:3]\n",
    "print(list_b)\n",
    "\n",
    "del list_b[1:]\n",
    "print(list_b)\n"
   ]
  },
  {
   "cell_type": "code",
   "execution_count": 11,
   "metadata": {
    "ExecuteTime": {
     "end_time": "2020-08-27T09:13:56.618045Z",
     "start_time": "2020-08-27T09:13:56.614045Z"
    }
   },
   "outputs": [
    {
     "name": "stdout",
     "output_type": "stream",
     "text": [
      "[1, 1, 2]\n",
      "[]\n"
     ]
    }
   ],
   "source": [
    "list_c = [1,2,1,2]\n",
    "\n",
    "list_c.remove(2)\n",
    "print(list_c)\n",
    "\n",
    "list_c.clear()\n",
    "print(list_c)"
   ]
  },
  {
   "cell_type": "code",
   "execution_count": 12,
   "metadata": {
    "ExecuteTime": {
     "end_time": "2020-08-27T09:13:58.962045Z",
     "start_time": "2020-08-27T09:13:58.954045Z"
    }
   },
   "outputs": [
    {
     "ename": "SyntaxError",
     "evalue": "invalid syntax (<ipython-input-12-9eb138239fe7>, line 5)",
     "output_type": "error",
     "traceback": [
      "\u001b[1;36m  File \u001b[1;32m\"<ipython-input-12-9eb138239fe7>\"\u001b[1;36m, line \u001b[1;32m5\u001b[0m\n\u001b[1;33m    print(105 not in list_d)\u001b[0m\n\u001b[1;37m    ^\u001b[0m\n\u001b[1;31mSyntaxError\u001b[0m\u001b[1;31m:\u001b[0m invalid syntax\n"
     ]
    }
   ],
   "source": [
    "list_d = [10, 1000, 10000, 3000]\n",
    "\n",
    "# list의 요소 확인 연산자 : in  -> 찬고자하는 요소값 in list\n",
    "print(10 in list_d \n",
    "print(105 not in list_d)"
   ]
  },
  {
   "cell_type": "code",
   "execution_count": 13,
   "metadata": {
    "ExecuteTime": {
     "end_time": "2020-08-27T09:14:01.871045Z",
     "start_time": "2020-08-27T09:14:01.864045Z"
    }
   },
   "outputs": [
    {
     "name": "stdout",
     "output_type": "stream",
     "text": [
      "0\n",
      "1\n",
      "2\n",
      "3\n",
      "4\n",
      "5\n",
      "6\n",
      "7\n",
      "8\n",
      "9\n"
     ]
    }
   ],
   "source": [
    "# 반복문 : for\n",
    "for i in range(10):\n",
    "    print(i)"
   ]
  },
  {
   "cell_type": "code",
   "execution_count": 14,
   "metadata": {
    "ExecuteTime": {
     "end_time": "2020-08-27T09:14:04.484045Z",
     "start_time": "2020-08-27T09:14:04.477045Z"
    }
   },
   "outputs": [
    {
     "name": "stdout",
     "output_type": "stream",
     "text": [
      "list_a : [2, 3, 4, 5]\n",
      "2\n",
      "3\n",
      "4\n",
      "5\n"
     ]
    }
   ],
   "source": [
    "# for 문을 이용한 list의 일괄 참조\n",
    "print('list_a :', list_a)\n",
    "for n in list_a:\n",
    "    print(n)"
   ]
  },
  {
   "cell_type": "code",
   "execution_count": 15,
   "metadata": {
    "ExecuteTime": {
     "end_time": "2020-08-27T09:14:09.083045Z",
     "start_time": "2020-08-27T09:14:09.075045Z"
    }
   },
   "outputs": [
    {
     "name": "stdout",
     "output_type": "stream",
     "text": [
      "<class 'dict'> {'name': '어벤져스', 'cast': ['아이언맨', '토르', '헐크']}\n"
     ]
    }
   ],
   "source": [
    "#딕셔너리 : 키 : 값 형태로 데이터의 구조를 만드는 형식 { 키:값, 키:값,.....}\n",
    "\n",
    "dic_movie = {\n",
    "    'name' : '어벤져스',\n",
    "    'cast' : ['아이언맨', '토르', '헐크']\n",
    "}\n",
    "\n",
    "print(type(dic_movie), dic_movie)"
   ]
  },
  {
   "cell_type": "code",
   "execution_count": 16,
   "metadata": {
    "ExecuteTime": {
     "end_time": "2020-08-27T09:14:11.525045Z",
     "start_time": "2020-08-27T09:14:11.514045Z"
    },
    "code_folding": []
   },
   "outputs": [
    {
     "name": "stdout",
     "output_type": "stream",
     "text": [
      "영화 제목 : 어벤져스\n",
      "출연 :  ['아이언맨', '토르', '헐크']\n",
      "\t 아이언맨\n",
      "\t 토르\n",
      "\t 헐크\n"
     ]
    }
   ],
   "source": [
    "# dict의 참조 : 키값으로 값을 참조\n",
    "print('영화 제목 :', dic_movie['name'])\n",
    "print('출연 : ', dic_movie['cast'])\n",
    "\n",
    "dic_movie['runtime'] = 120\n",
    "\n",
    "#print(dic_movie)\n",
    "\n",
    "#for c in dic_movie['cast']:\n",
    "for c in dic_movie.get('cast'):\n",
    "    print('\\t',c)"
   ]
  },
  {
   "cell_type": "code",
   "execution_count": 8,
   "metadata": {
    "ExecuteTime": {
     "end_time": "2020-08-27T09:13:15.234045Z",
     "start_time": "2020-08-27T09:13:15.227045Z"
    }
   },
   "outputs": [
    {
     "name": "stdout",
     "output_type": "stream",
     "text": [
      "영화 제목 : 어벤져스\n",
      "출연 :  ['아이언맨', '토르', '헐크']\n"
     ]
    }
   ],
   "source": [
    "# dict의 참조 : 키값으로 값을 참조\n",
    "print('영화 제목 :', dic_movie['name'])\n",
    "print('출연 : ', dic_movie['cast'])"
   ]
  },
  {
   "cell_type": "code",
   "execution_count": 2,
   "metadata": {
    "ExecuteTime": {
     "end_time": "2020-08-27T09:12:50.930045Z",
     "start_time": "2020-08-27T09:12:50.915045Z"
    }
   },
   "outputs": [
    {
     "ename": "NameError",
     "evalue": "name 'dic_movie' is not defined",
     "output_type": "error",
     "traceback": [
      "\u001b[1;31m---------------------------------------------------------------------------\u001b[0m",
      "\u001b[1;31mNameError\u001b[0m                                 Traceback (most recent call last)",
      "\u001b[1;32m<ipython-input-2-c0766bdfc697>\u001b[0m in \u001b[0;36m<module>\u001b[1;34m\u001b[0m\n\u001b[1;32m----> 1\u001b[1;33m \u001b[0mdic_movie\u001b[0m\u001b[1;33m[\u001b[0m\u001b[1;34m'runtime'\u001b[0m\u001b[1;33m]\u001b[0m \u001b[1;33m=\u001b[0m \u001b[1;36m120\u001b[0m\u001b[1;33m\u001b[0m\u001b[1;33m\u001b[0m\u001b[0m\n\u001b[0m\u001b[0;32m      2\u001b[0m \u001b[1;33m\u001b[0m\u001b[0m\n\u001b[0;32m      3\u001b[0m \u001b[1;31m#print(dic_movie)\u001b[0m\u001b[1;33m\u001b[0m\u001b[1;33m\u001b[0m\u001b[1;33m\u001b[0m\u001b[0m\n\u001b[0;32m      4\u001b[0m \u001b[1;33m\u001b[0m\u001b[0m\n\u001b[0;32m      5\u001b[0m \u001b[1;31m#for c in dic_movie['cast']:\u001b[0m\u001b[1;33m\u001b[0m\u001b[1;33m\u001b[0m\u001b[1;33m\u001b[0m\u001b[0m\n",
      "\u001b[1;31mNameError\u001b[0m: name 'dic_movie' is not defined"
     ]
    }
   ],
   "source": [
    "dic_movie['runtime'] = 120\n",
    "\n",
    "#print(dic_movie)\n",
    "\n",
    "#for c in dic_movie['cast']:\n",
    "for c in dic_movie.get('cast'):\n",
    "    print('\\t',c)"
   ]
  },
  {
   "cell_type": "code",
   "execution_count": 54,
   "metadata": {
    "ExecuteTime": {
     "end_time": "2020-08-27T03:17:40.116372Z",
     "start_time": "2020-08-27T03:17:40.111387Z"
    }
   },
   "outputs": [
    {
     "name": "stdout",
     "output_type": "stream",
     "text": [
      "상영시간 : 120 분\n"
     ]
    }
   ],
   "source": [
    "#print('상영시간 :', dic_movie['runtime'], '분')   \n",
    "print('상영시간 :', dic_movie.get('runtime'), '분')   "
   ]
  },
  {
   "cell_type": "code",
   "execution_count": 1,
   "metadata": {
    "ExecuteTime": {
     "end_time": "2020-08-27T09:12:45.485045Z",
     "start_time": "2020-08-27T09:12:45.168045Z"
    }
   },
   "outputs": [
    {
     "ename": "NameError",
     "evalue": "name 'dic_movie' is not defined",
     "output_type": "error",
     "traceback": [
      "\u001b[1;31m---------------------------------------------------------------------------\u001b[0m",
      "\u001b[1;31mNameError\u001b[0m                                 Traceback (most recent call last)",
      "\u001b[1;32m<ipython-input-1-fe728213062f>\u001b[0m in \u001b[0;36m<module>\u001b[1;34m\u001b[0m\n\u001b[0;32m      1\u001b[0m \u001b[1;31m# dict의 요소 삭제\u001b[0m\u001b[1;33m\u001b[0m\u001b[1;33m\u001b[0m\u001b[1;33m\u001b[0m\u001b[0m\n\u001b[1;32m----> 2\u001b[1;33m \u001b[1;32mdel\u001b[0m \u001b[0mdic_movie\u001b[0m\u001b[1;33m[\u001b[0m\u001b[1;34m'runtime'\u001b[0m\u001b[1;33m]\u001b[0m\u001b[1;33m\u001b[0m\u001b[1;33m\u001b[0m\u001b[0m\n\u001b[0m\u001b[0;32m      3\u001b[0m \u001b[1;33m\u001b[0m\u001b[0m\n\u001b[0;32m      4\u001b[0m \u001b[0mprint\u001b[0m\u001b[1;33m(\u001b[0m\u001b[0mdic_movie\u001b[0m\u001b[1;33m)\u001b[0m\u001b[1;33m\u001b[0m\u001b[1;33m\u001b[0m\u001b[0m\n\u001b[0;32m      5\u001b[0m \u001b[1;33m\u001b[0m\u001b[0m\n",
      "\u001b[1;31mNameError\u001b[0m: name 'dic_movie' is not defined"
     ]
    }
   ],
   "source": [
    "# dict의 요소 삭제\n",
    "del dic_movie['runtime']\n",
    "\n",
    "print(dic_movie)\n",
    "\n",
    "run_time = dic_movie.get('runtime')\n",
    "print(run_time)\n",
    "\n",
    "if not run_time :\n",
    "    print('상영 시간 정보가 없습니다.')\n",
    "\n",
    "    "
   ]
  },
  {
   "cell_type": "code",
   "execution_count": null,
   "metadata": {},
   "outputs": [],
   "source": []
  },
  {
   "cell_type": "code",
   "execution_count": null,
   "metadata": {},
   "outputs": [],
   "source": []
  }
 ],
 "metadata": {
  "kernelspec": {
   "display_name": "Python 3",
   "language": "python",
   "name": "python3"
  },
  "language_info": {
   "codemirror_mode": {
    "name": "ipython",
    "version": 3
   },
   "file_extension": ".py",
   "mimetype": "text/x-python",
   "name": "python",
   "nbconvert_exporter": "python",
   "pygments_lexer": "ipython3",
   "version": "3.8.3"
  },
  "toc": {
   "base_numbering": 1,
   "nav_menu": {},
   "number_sections": true,
   "sideBar": true,
   "skip_h1_title": false,
   "title_cell": "Table of Contents",
   "title_sidebar": "Contents",
   "toc_cell": false,
   "toc_position": {},
   "toc_section_display": true,
   "toc_window_display": false
  },
  "varInspector": {
   "cols": {
    "lenName": 16,
    "lenType": 16,
    "lenVar": 40
   },
   "kernels_config": {
    "python": {
     "delete_cmd_postfix": "",
     "delete_cmd_prefix": "del ",
     "library": "var_list.py",
     "varRefreshCmd": "print(var_dic_list())"
    },
    "r": {
     "delete_cmd_postfix": ") ",
     "delete_cmd_prefix": "rm(",
     "library": "var_list.r",
     "varRefreshCmd": "cat(var_dic_list()) "
    }
   },
   "types_to_exclude": [
    "module",
    "function",
    "builtin_function_or_method",
    "instance",
    "_Feature"
   ],
   "window_display": false
  }
 },
 "nbformat": 4,
 "nbformat_minor": 4
}
