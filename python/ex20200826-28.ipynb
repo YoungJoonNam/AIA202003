{
 "cells": [
  {
   "cell_type": "code",
   "execution_count": 2,
   "metadata": {},
   "outputs": [
    {
     "name": "stdout",
     "output_type": "stream",
     "text": [
      "['False', 'None', 'True', 'and', 'as', 'assert', 'async', 'await', 'break', 'class', 'continue', 'def', 'del', 'elif', 'else', 'except', 'finally', 'for', 'from', 'global', 'if', 'import', 'in', 'is', 'lambda', 'nonlocal', 'not', 'or', 'pass', 'raise', 'return', 'try', 'while', 'with', 'yield']\n"
     ]
    }
   ],
   "source": [
    "import keyword\n",
    "\n",
    "print(keyword.kwlist)"
   ]
  },
  {
   "cell_type": "code",
   "execution_count": 4,
   "metadata": {},
   "outputs": [
    {
     "name": "stdout",
     "output_type": "stream",
     "text": [
      "야옹야옹\n",
      "고양이가 야옹입니당\n",
      "양양야야양\n",
      "\n",
      "야~~~~~~~~~~~~~~~옹!\n",
      "\n",
      "\n",
      "\n"
     ]
    }
   ],
   "source": [
    "print('''야옹야옹\n",
    "고양이가 야옹입니당\n",
    "양양야야양\n",
    "\n",
    "야~~~~~~~~~~~~~~~옹!\n",
    "\n",
    "\n",
    "''')"
   ]
  },
  {
   "cell_type": "code",
   "execution_count": 6,
   "metadata": {},
   "outputs": [
    {
     "name": "stdout",
     "output_type": "stream",
     "text": [
      "멍멍멍\n",
      "망망망\n",
      "야옹야옹\n",
      "꽥꽥\n"
     ]
    }
   ],
   "source": [
    "print(\"\"\"\\\n",
    "멍멍멍\n",
    "망망망\n",
    "야옹야옹\n",
    "꽥꽥\\\n",
    "\"\"\")"
   ]
  },
  {
   "cell_type": "code",
   "execution_count": 24,
   "metadata": {},
   "outputs": [
    {
     "name": "stdout",
     "output_type": "stream",
     "text": [
      "안녕하세용안녕하세용안녕하세용\n"
     ]
    }
   ],
   "source": [
    "print(\"안녕하세용\"*3)"
   ]
  },
  {
   "cell_type": "code",
   "execution_count": 13,
   "metadata": {},
   "outputs": [],
   "source": [
    "hello ='안녕하세용'"
   ]
  },
  {
   "cell_type": "code",
   "execution_count": 14,
   "metadata": {},
   "outputs": [
    {
     "data": {
      "text/plain": [
       "str"
      ]
     },
     "execution_count": 14,
     "metadata": {},
     "output_type": "execute_result"
    }
   ],
   "source": [
    "type(hello)"
   ]
  },
  {
   "cell_type": "code",
   "execution_count": 15,
   "metadata": {},
   "outputs": [
    {
     "name": "stdout",
     "output_type": "stream",
     "text": [
      "안\n"
     ]
    }
   ],
   "source": [
    "print(hello[0])"
   ]
  },
  {
   "cell_type": "code",
   "execution_count": 17,
   "metadata": {},
   "outputs": [
    {
     "name": "stdout",
     "output_type": "stream",
     "text": [
      "용\n"
     ]
    }
   ],
   "source": [
    "print(hello[-1])"
   ]
  },
  {
   "cell_type": "code",
   "execution_count": 26,
   "metadata": {},
   "outputs": [
    {
     "name": "stdout",
     "output_type": "stream",
     "text": [
      "세영\n",
      "안녕하세\n",
      "녕하세용\n"
     ]
    }
   ],
   "source": [
    "print(\"안녕하세영\"[3:])\n",
    "print(hello[:4])\n",
    "print(hello[1:])"
   ]
  },
  {
   "cell_type": "code",
   "execution_count": 28,
   "metadata": {},
   "outputs": [
    {
     "data": {
      "text/plain": [
       "3.3333333333333335"
      ]
     },
     "execution_count": 28,
     "metadata": {},
     "output_type": "execute_result"
    }
   ],
   "source": [
    "10/3"
   ]
  },
  {
   "cell_type": "code",
   "execution_count": 31,
   "metadata": {},
   "outputs": [
    {
     "data": {
      "text/plain": [
       "3"
      ]
     },
     "execution_count": 31,
     "metadata": {},
     "output_type": "execute_result"
    }
   ],
   "source": [
    "int(10/3)\n",
    "10/3\n",
    "10//3"
   ]
  },
  {
   "cell_type": "code",
   "execution_count": 33,
   "metadata": {},
   "outputs": [
    {
     "data": {
      "text/plain": [
       "3.3333333333333335"
      ]
     },
     "execution_count": 33,
     "metadata": {},
     "output_type": "execute_result"
    }
   ],
   "source": [
    "10/3"
   ]
  },
  {
   "cell_type": "code",
   "execution_count": 35,
   "metadata": {},
   "outputs": [
    {
     "data": {
      "text/plain": [
       "3"
      ]
     },
     "execution_count": 35,
     "metadata": {},
     "output_type": "execute_result"
    }
   ],
   "source": [
    "10//3"
   ]
  },
  {
   "cell_type": "code",
   "execution_count": 37,
   "metadata": {},
   "outputs": [
    {
     "data": {
      "text/plain": [
       "16"
      ]
     },
     "execution_count": 37,
     "metadata": {},
     "output_type": "execute_result"
    }
   ],
   "source": [
    "2**4"
   ]
  },
  {
   "cell_type": "code",
   "execution_count": 39,
   "metadata": {},
   "outputs": [
    {
     "data": {
      "text/plain": [
       "4"
      ]
     },
     "execution_count": 39,
     "metadata": {},
     "output_type": "execute_result"
    }
   ],
   "source": [
    "2**2"
   ]
  },
  {
   "cell_type": "code",
   "execution_count": 42,
   "metadata": {},
   "outputs": [
    {
     "name": "stdout",
     "output_type": "stream",
     "text": [
      "인사말입력해주세염ㅇㅁㄴㅇ\n"
     ]
    },
    {
     "data": {
      "text/plain": [
       "'ㅇㅁㄴㅇ'"
      ]
     },
     "execution_count": 42,
     "metadata": {},
     "output_type": "execute_result"
    }
   ],
   "source": [
    "input(\"인사말입력해주세염\")"
   ]
  },
  {
   "cell_type": "code",
   "execution_count": 44,
   "metadata": {},
   "outputs": [
    {
     "name": "stdout",
     "output_type": "stream",
     "text": [
      "숫자 입력 부탁100\n"
     ]
    }
   ],
   "source": [
    "num = input('숫자 입력 부탁')"
   ]
  },
  {
   "cell_type": "code",
   "execution_count": 49,
   "metadata": {},
   "outputs": [
    {
     "name": "stdout",
     "output_type": "stream",
     "text": [
      "http://localhost:8088/member\n"
     ]
    }
   ],
   "source": [
    "url_str = 'http://{}:{}/{}'.format('localhost',8088,'member')\n",
    "print(url_str)"
   ]
  },
  {
   "cell_type": "code",
   "execution_count": 60,
   "metadata": {},
   "outputs": [
    {
     "name": "stdout",
     "output_type": "stream",
     "text": [
      "정수를 입력해주세요 >>111\n",
      "111 는 양의 정수입니당당\n"
     ]
    }
   ],
   "source": [
    "number = int(input('정수를 입력해주세요 >>'))\n",
    "\n",
    "# 양의 정수 판별\n",
    "if number>0 :\n",
    "    print(number, '는 양의 정수입니당당')\n",
    "#음의 정수 판별\n",
    "if number <0 :\n",
    "    print(number, '는 음의 정수입니당당')\n",
    "    \n",
    "# 숫자 0 판별\n",
    "if number == 0 :\n",
    "    print(number, '는 0 입니당당')"
   ]
  },
  {
   "cell_type": "code",
   "execution_count": 61,
   "metadata": {},
   "outputs": [
    {
     "name": "stdout",
     "output_type": "stream",
     "text": [
      "2020 년\n"
     ]
    }
   ],
   "source": [
    "import datetime\n",
    "\n",
    "now = datetime.datetime.now()\n",
    "\n",
    "print(now.year, \"년\")"
   ]
  },
  {
   "cell_type": "code",
   "execution_count": 65,
   "metadata": {},
   "outputs": [],
   "source": [
    "now_str = '{}년 {}월 {}일 {}:{}:{}'.format(now.year,now.month,now.day,now.hour,now.minute,now.second)"
   ]
  },
  {
   "cell_type": "code",
   "execution_count": 68,
   "metadata": {},
   "outputs": [
    {
     "name": "stdout",
     "output_type": "stream",
     "text": [
      "2020년 8월 26일 12:5:2\n"
     ]
    }
   ],
   "source": [
    "print(now_str)"
   ]
  },
  {
   "cell_type": "code",
   "execution_count": 73,
   "metadata": {},
   "outputs": [
    {
     "name": "stdout",
     "output_type": "stream",
     "text": [
      "야옹!!\n"
     ]
    }
   ],
   "source": [
    "if 3 <= now.month <= 5 :\n",
    "    print (\"우왕!!!\")\n",
    "if 6 <= now.month <= 9 :\n",
    "    print (\"야옹!!\")"
   ]
  },
  {
   "cell_type": "code",
   "execution_count": 78,
   "metadata": {},
   "outputs": [
    {
     "name": "stdout",
     "output_type": "stream",
     "text": [
      "정수!>>> s\n"
     ]
    }
   ],
   "source": [
    "#숫자 입력\n",
    "number = input(\"정수!>>> \")\n",
    "last_number = number[-1]\n",
    "\n",
    "#짝수 조건\n",
    "if last_number in '02468':\n",
    "    print('짝수')\n",
    "if last_number in '13579':\n",
    "    print('홀수')    \n",
    "# if last_number == '0'    :\n",
    "#     print(0)"
   ]
  },
  {
   "cell_type": "code",
   "execution_count": 81,
   "metadata": {},
   "outputs": [
    {
     "name": "stdout",
     "output_type": "stream",
     "text": [
      "정수입력>>1\n",
      "홀수\n"
     ]
    }
   ],
   "source": [
    "number = int(input('정수입력>>'))\n",
    "\n",
    "if number%2 == 0:\n",
    "    print('짝수')\n",
    "else :\n",
    "    print('홀수')"
   ]
  },
  {
   "cell_type": "code",
   "execution_count": 84,
   "metadata": {},
   "outputs": [
    {
     "name": "stdout",
     "output_type": "stream",
     "text": [
      "정수입력>>56215845\n",
      "짝수\n"
     ]
    }
   ],
   "source": [
    "number = int(input('정수입력>>'))\n",
    "\n",
    "if number&2 == 0:\n",
    "    print('짝수')\n",
    "else :\n",
    "    print('홀수')"
   ]
  },
  {
   "cell_type": "code",
   "execution_count": 2,
   "metadata": {
    "ExecuteTime": {
     "end_time": "2020-08-27T01:27:16.731204Z",
     "start_time": "2020-08-27T01:27:14.390204Z"
    }
   },
   "outputs": [
    {
     "name": "stdout",
     "output_type": "stream",
     "text": [
      "정수입력>>5325\n",
      "홀수\n"
     ]
    }
   ],
   "source": [
    "number = int(input('정수입력>>'))\n",
    "\n",
    "if number == 0:\n",
    "    print('0')\n",
    "elif number%2 == 0:\n",
    "    print('짝수')\n",
    "else :\n",
    "    print('홀수')"
   ]
  },
  {
   "cell_type": "code",
   "execution_count": 3,
   "metadata": {
    "ExecuteTime": {
     "end_time": "2020-08-27T01:48:00.017204Z",
     "start_time": "2020-08-27T01:48:00.008204Z"
    }
   },
   "outputs": [
    {
     "data": {
      "text/plain": [
       "list"
      ]
     },
     "execution_count": 3,
     "metadata": {},
     "output_type": "execute_result"
    }
   ],
   "source": [
    "array = []\n",
    "type(array)"
   ]
  },
  {
   "cell_type": "code",
   "execution_count": 6,
   "metadata": {
    "ExecuteTime": {
     "end_time": "2020-08-27T03:14:49.206204Z",
     "start_time": "2020-08-27T03:14:49.197204Z"
    }
   },
   "outputs": [
    {
     "name": "stdout",
     "output_type": "stream",
     "text": [
      "<class 'dict'> {'name': '어벤져스', 'cast': '아이언맨,토르,헐크'}\n"
     ]
    }
   ],
   "source": [
    "dic_movie = {\n",
    "    'name' : '어벤져스',\n",
    "    'cast' : '아이언맨,토르,헐크'\n",
    "}\n",
    "\n",
    "print(type(dic_movie),dic_movie)"
   ]
  },
  {
   "cell_type": "code",
   "execution_count": 3,
   "metadata": {
    "ExecuteTime": {
     "end_time": "2020-08-28T01:07:59.529601Z",
     "start_time": "2020-08-28T01:07:59.524601Z"
    }
   },
   "outputs": [],
   "source": [
    "exam_list = ['요소A','요소B','요소C']"
   ]
  },
  {
   "cell_type": "code",
   "execution_count": 7,
   "metadata": {
    "ExecuteTime": {
     "end_time": "2020-08-28T01:11:35.087601Z",
     "start_time": "2020-08-28T01:11:35.076601Z"
    }
   },
   "outputs": [
    {
     "name": "stdout",
     "output_type": "stream",
     "text": [
      "0번째의 요소값은 요소A입니다.\n",
      "1번째의 요소값은 요소B입니다.\n",
      "2번째의 요소값은 요소C입니다.\n"
     ]
    }
   ],
   "source": [
    "#index 변수를 사용\n",
    "i=0 #index로 사용할 변수 선언, 초기화\n",
    "for item in exam_list:\n",
    "    print('{}번째의 요소값은 {}입니다.'.format(i, item))\n",
    "    i += 1"
   ]
  },
  {
   "cell_type": "code",
   "execution_count": 9,
   "metadata": {
    "ExecuteTime": {
     "end_time": "2020-08-28T01:13:34.480601Z",
     "start_time": "2020-08-28T01:13:34.472601Z"
    }
   },
   "outputs": [
    {
     "name": "stdout",
     "output_type": "stream",
     "text": [
      "0번째의 요소값은 요소A입니다.\n",
      "1번째의 요소값은 요소B입니다.\n",
      "2번째의 요소값은 요소C입니다.\n"
     ]
    }
   ],
   "source": [
    "# range함수 이용\n",
    "\n",
    "for i in range(len(exam_list)) : # 0~N-1\n",
    "    print('{}번째의 요소값은 {}입니다.'.format(i, exam_list[i]))"
   ]
  },
  {
   "cell_type": "code",
   "execution_count": 14,
   "metadata": {
    "ExecuteTime": {
     "end_time": "2020-08-28T01:35:15.234601Z",
     "start_time": "2020-08-28T01:35:15.222601Z"
    }
   },
   "outputs": [
    {
     "name": "stdout",
     "output_type": "stream",
     "text": [
      "exam_list :  ['요소A', '요소B', '요소C']\n",
      "exam_list(exam_list) :  <enumerate object at 0x0000000005637BC0>\n",
      "exam_list(exam_list) :  [(0, '요소A'), (1, '요소B'), (2, '요소C')]\n",
      "0번째의 요소값은 요소A입니다.\n",
      "1번째의 요소값은 요소B입니다.\n",
      "2번째의 요소값은 요소C입니다.\n"
     ]
    }
   ],
   "source": [
    "#enumerate 함수 이용\n",
    "\n",
    "print('exam_list : ', exam_list)\n",
    "print('exam_list(exam_list) : ', enumerate(exam_list))\n",
    "print('exam_list(exam_list) : ', list(enumerate(exam_list)))\n",
    "\n",
    "for i, val in enumerate(exam_list) :\n",
    "    print('{}번째의 요소값은 {}입니다.'.format(i, val))"
   ]
  },
  {
   "cell_type": "code",
   "execution_count": 17,
   "metadata": {
    "ExecuteTime": {
     "end_time": "2020-08-28T01:50:36.003601Z",
     "start_time": "2020-08-28T01:50:35.989601Z"
    }
   },
   "outputs": [
    {
     "name": "stdout",
     "output_type": "stream",
     "text": [
      "exam_dic.items() :  dict_items([('key1', 'value1'), ('key2', 'value2'), ('key3', 'value3')])\n"
     ]
    }
   ],
   "source": [
    "exam_dic = {\n",
    "    'key1' : 'value1',\n",
    "    'key2' : 'value2',\n",
    "    'key3' : 'value3'\n",
    "}\n",
    "\n",
    "# item() 함수 사용 : list 형식으로 일괄 참조가 가능\n",
    "print('exam_dic.items() : ', exam_dic.items())"
   ]
  },
  {
   "cell_type": "code",
   "execution_count": 19,
   "metadata": {
    "ExecuteTime": {
     "end_time": "2020-08-28T01:51:09.699601Z",
     "start_time": "2020-08-28T01:51:09.680601Z"
    }
   },
   "outputs": [
    {
     "name": "stdout",
     "output_type": "stream",
     "text": [
      "[0, 2, 4, 6, 8, 10, 12, 14, 16, 18]\n"
     ]
    }
   ],
   "source": [
    "array = [ i for i in range(0,20,2)]\n",
    "print(array)"
   ]
  },
  {
   "cell_type": "code",
   "execution_count": 22,
   "metadata": {
    "ExecuteTime": {
     "end_time": "2020-08-28T02:08:08.798601Z",
     "start_time": "2020-08-28T02:08:08.786601Z"
    }
   },
   "outputs": [
    {
     "name": "stdout",
     "output_type": "stream",
     "text": [
      "['사과', '바나나', '초콜릿', '체리']\n",
      "['사과', '바나나', '체리']\n"
     ]
    }
   ],
   "source": [
    "array_fruit = ['사과','바나나','초콜릿','체리']\n",
    "array_output = [ fruit for fruit in array_fruit if fruit != '초콜릿']\n",
    "print(array_fruit)\n",
    "print(array_output)"
   ]
  },
  {
   "cell_type": "code",
   "execution_count": 24,
   "metadata": {
    "ExecuteTime": {
     "end_time": "2020-08-28T02:11:03.262601Z",
     "start_time": "2020-08-28T02:11:03.251601Z"
    }
   },
   "outputs": [
    {
     "name": "stdout",
     "output_type": "stream",
     "text": [
      "하이하이~\n",
      "하이하이~\n",
      "하이하이~\n",
      "하이하이~\n",
      "하이하이~\n"
     ]
    }
   ],
   "source": [
    "def print_n_times(value, n) :\n",
    "    for i in range(n):\n",
    "        print(value)\n",
    "        \n",
    "print_n_times(\"하이하이~\",5)"
   ]
  },
  {
   "cell_type": "code",
   "execution_count": 32,
   "metadata": {
    "ExecuteTime": {
     "end_time": "2020-08-28T03:44:40.058601Z",
     "start_time": "2020-08-28T03:44:40.055601Z"
    }
   },
   "outputs": [
    {
     "name": "stdout",
     "output_type": "stream",
     "text": [
      "10 20\n",
      "(10, 20)\n"
     ]
    }
   ],
   "source": [
    "def test():\n",
    "    return(10,20)\n",
    "\n",
    "a,b = test()\n",
    "\n",
    "print(a,b)\n",
    "print(test())"
   ]
  }
 ],
 "metadata": {
  "kernelspec": {
   "display_name": "Python 3",
   "language": "python",
   "name": "python3"
  },
  "language_info": {
   "codemirror_mode": {
    "name": "ipython",
    "version": 3
   },
   "file_extension": ".py",
   "mimetype": "text/x-python",
   "name": "python",
   "nbconvert_exporter": "python",
   "pygments_lexer": "ipython3",
   "version": "3.8.3"
  },
  "varInspector": {
   "cols": {
    "lenName": 16,
    "lenType": 16,
    "lenVar": 40
   },
   "kernels_config": {
    "python": {
     "delete_cmd_postfix": "",
     "delete_cmd_prefix": "del ",
     "library": "var_list.py",
     "varRefreshCmd": "print(var_dic_list())"
    },
    "r": {
     "delete_cmd_postfix": ") ",
     "delete_cmd_prefix": "rm(",
     "library": "var_list.r",
     "varRefreshCmd": "cat(var_dic_list()) "
    }
   },
   "types_to_exclude": [
    "module",
    "function",
    "builtin_function_or_method",
    "instance",
    "_Feature"
   ],
   "window_display": false
  }
 },
 "nbformat": 4,
 "nbformat_minor": 4
}
