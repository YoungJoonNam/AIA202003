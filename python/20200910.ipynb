{
 "cells": [
  {
   "cell_type": "code",
   "execution_count": 17,
   "metadata": {
    "ExecuteTime": {
     "end_time": "2020-09-10T04:17:10.338485Z",
     "start_time": "2020-09-10T04:17:10.333298Z"
    }
   },
   "outputs": [
    {
     "name": "stdout",
     "output_type": "stream",
     "text": [
      "반복처리가 완료 되었습니다.\n",
      "반복처리가 완료 되었습니다.\n",
      "반복처리가 완료 되었습니다.\n",
      "ValueError\n",
      "type(ex) <class 'ValueError'>\n",
      "Exception <class 'Exception'>\n",
      "반복처리가 완료 되었습니다.\n",
      "반복처리가 완료 되었습니다.\n",
      "['52', '274', '34', '데이터', '100'] 내부의 숫자는['52', '274', '34', '100'] 입니다.\n"
     ]
    }
   ],
   "source": [
    "# int('숫자')\n",
    "\n",
    "list_input_a = ['52','274','34','데이터','100']\n",
    "\n",
    "list_number = []\n",
    "\n",
    "for item in list_input_a:\n",
    "    \n",
    "    try: #예외가 발생할 위치\n",
    "        float(item)\n",
    "        list_number.append(item)\n",
    "    except Exception as ex : #예외가 발생했을 때 실행할 처리 구문\n",
    "        print('ValueError')\n",
    "        print('type(ex)',type(ex))\n",
    "        print('Exception',Exception)\n",
    "    finally:\n",
    "        print('반복처리가 완료 되었습니다.')\n",
    "        \n",
    "    \n",
    "    \n",
    "print('{} 내부의 숫자는'.format(list_input_a), end='')\n",
    "print('{} 입니다.'.format(list_number))\n",
    "        "
   ]
  },
  {
   "cell_type": "code",
   "execution_count": 19,
   "metadata": {
    "ExecuteTime": {
     "end_time": "2020-09-10T04:17:20.135187Z",
     "start_time": "2020-09-10T04:17:20.132193Z"
    }
   },
   "outputs": [],
   "source": [
    "import math"
   ]
  },
  {
   "cell_type": "code",
   "execution_count": 23,
   "metadata": {
    "ExecuteTime": {
     "end_time": "2020-09-10T05:57:10.571757Z",
     "start_time": "2020-09-10T05:57:10.567473Z"
    }
   },
   "outputs": [
    {
     "data": {
      "text/plain": [
       "10"
      ]
     },
     "execution_count": 23,
     "metadata": {},
     "output_type": "execute_result"
    }
   ],
   "source": [
    "math.floor(10.3)"
   ]
  },
  {
   "cell_type": "code",
   "execution_count": 24,
   "metadata": {
    "ExecuteTime": {
     "end_time": "2020-09-10T05:57:21.303675Z",
     "start_time": "2020-09-10T05:57:21.300683Z"
    }
   },
   "outputs": [],
   "source": [
    "import random"
   ]
  },
  {
   "cell_type": "code",
   "execution_count": 46,
   "metadata": {
    "ExecuteTime": {
     "end_time": "2020-09-10T06:04:23.242888Z",
     "start_time": "2020-09-10T06:04:23.236903Z"
    }
   },
   "outputs": [
    {
     "name": "stdout",
     "output_type": "stream",
     "text": [
      "0.6342149770467863\n",
      "18.64891325960626\n",
      "9\n",
      "17\n",
      "3\n",
      "None\n",
      "[9, 1, 10, 7, 3, 5]\n"
     ]
    }
   ],
   "source": [
    "print(random.random())\n",
    "print(random.uniform(10,20))\n",
    "print(random.randrange(10))\n",
    "print(random.randrange(1,46,1))\n",
    "list_num = [1,2,3,4,5,6,7,8,9,10]\n",
    "print(random.choice(list_num))\n",
    "print(random.shuffle(list_num))\n",
    "print(random.sample(list_num,k=6))"
   ]
  },
  {
   "cell_type": "code",
   "execution_count": 51,
   "metadata": {
    "ExecuteTime": {
     "end_time": "2020-09-10T06:06:04.919867Z",
     "start_time": "2020-09-10T06:06:04.916873Z"
    }
   },
   "outputs": [],
   "source": [
    "import sys  "
   ]
  },
  {
   "cell_type": "code",
   "execution_count": 64,
   "metadata": {
    "ExecuteTime": {
     "end_time": "2020-09-10T06:30:04.808817Z",
     "start_time": "2020-09-10T06:30:04.804160Z"
    }
   },
   "outputs": [
    {
     "name": "stdout",
     "output_type": "stream",
     "text": [
      "sys.getwindowsversion(major=10, minor=0, build=18363, platform=2, service_pack='')\n"
     ]
    }
   ],
   "source": [
    "print(sys.getwindowsversion())"
   ]
  },
  {
   "cell_type": "code",
   "execution_count": 56,
   "metadata": {
    "ExecuteTime": {
     "end_time": "2020-09-10T06:08:28.441110Z",
     "start_time": "2020-09-10T06:08:28.437422Z"
    }
   },
   "outputs": [
    {
     "name": "stdout",
     "output_type": "stream",
     "text": [
      "3.8.3 (default, Jul  2 2020, 17:30:36) [MSC v.1916 64 bit (AMD64)]\n"
     ]
    }
   ],
   "source": [
    "print(sys.version)"
   ]
  },
  {
   "cell_type": "code",
   "execution_count": 58,
   "metadata": {
    "ExecuteTime": {
     "end_time": "2020-09-10T06:28:51.970447Z",
     "start_time": "2020-09-10T06:28:51.966459Z"
    }
   },
   "outputs": [
    {
     "name": "stdout",
     "output_type": "stream",
     "text": [
      "<built-in function getwindowsversion>\n"
     ]
    }
   ],
   "source": [
    "print(sys.getwindowsversion)"
   ]
  },
  {
   "cell_type": "code",
   "execution_count": 60,
   "metadata": {
    "ExecuteTime": {
     "end_time": "2020-09-10T06:29:02.614665Z",
     "start_time": "2020-09-10T06:29:02.611674Z"
    }
   },
   "outputs": [],
   "source": [
    "import os"
   ]
  },
  {
   "cell_type": "code",
   "execution_count": 65,
   "metadata": {
    "ExecuteTime": {
     "end_time": "2020-09-10T06:33:30.823416Z",
     "start_time": "2020-09-10T06:33:30.816437Z"
    }
   },
   "outputs": [
    {
     "name": "stdout",
     "output_type": "stream",
     "text": [
      "nt\n",
      "C:\\Users\\njoon\\Documents\\GitHub\\AIA202003\\python\n",
      "['.ipynb_checkpoints', '20200910.ipynb', 'ex20200826-28.ipynb', 'firstPython.ipynb', 'python-강사님코드', 'test.py']\n"
     ]
    }
   ],
   "source": [
    "print(os.name)\n",
    "print(os.getcwd())\n",
    "print(os.listdir())"
   ]
  },
  {
   "cell_type": "code",
   "execution_count": 73,
   "metadata": {
    "ExecuteTime": {
     "end_time": "2020-09-10T06:40:46.255741Z",
     "start_time": "2020-09-10T06:40:46.251751Z"
    }
   },
   "outputs": [],
   "source": [
    "with open('test.txt','w') as file:\n",
    "    file.write('hello~~HIHIhi')\n",
    "    "
   ]
  },
  {
   "cell_type": "code",
   "execution_count": 71,
   "metadata": {
    "ExecuteTime": {
     "end_time": "2020-09-10T06:39:29.740850Z",
     "start_time": "2020-09-10T06:39:29.732358Z"
    }
   },
   "outputs": [
    {
     "ename": "FileNotFoundError",
     "evalue": "[WinError 2] 지정된 파일을 찾을 수 없습니다: 'test.txt' -> 'sample.txt'",
     "output_type": "error",
     "traceback": [
      "\u001b[1;31m---------------------------------------------------------------------------\u001b[0m",
      "\u001b[1;31mFileNotFoundError\u001b[0m                         Traceback (most recent call last)",
      "\u001b[1;32m<ipython-input-71-0d1026b6d1c2>\u001b[0m in \u001b[0;36m<module>\u001b[1;34m\u001b[0m\n\u001b[1;32m----> 1\u001b[1;33m \u001b[0mos\u001b[0m\u001b[1;33m.\u001b[0m\u001b[0mrename\u001b[0m\u001b[1;33m(\u001b[0m\u001b[1;34m'test.txt'\u001b[0m\u001b[1;33m,\u001b[0m\u001b[1;34m'sample.txt'\u001b[0m\u001b[1;33m)\u001b[0m\u001b[1;33m\u001b[0m\u001b[1;33m\u001b[0m\u001b[0m\n\u001b[0m",
      "\u001b[1;31mFileNotFoundError\u001b[0m: [WinError 2] 지정된 파일을 찾을 수 없습니다: 'test.txt' -> 'sample.txt'"
     ]
    }
   ],
   "source": [
    "os.rename('test.txt','sample.txt')"
   ]
  },
  {
   "cell_type": "code",
   "execution_count": 74,
   "metadata": {
    "ExecuteTime": {
     "end_time": "2020-09-10T06:40:57.342440Z",
     "start_time": "2020-09-10T06:40:57.332973Z"
    }
   },
   "outputs": [
    {
     "ename": "FileNotFoundError",
     "evalue": "[WinError 2] 지정된 파일을 찾을 수 없습니다: 'sample.txt'",
     "output_type": "error",
     "traceback": [
      "\u001b[1;31m---------------------------------------------------------------------------\u001b[0m",
      "\u001b[1;31mFileNotFoundError\u001b[0m                         Traceback (most recent call last)",
      "\u001b[1;32m<ipython-input-74-147505ce9767>\u001b[0m in \u001b[0;36m<module>\u001b[1;34m\u001b[0m\n\u001b[1;32m----> 1\u001b[1;33m \u001b[0mos\u001b[0m\u001b[1;33m.\u001b[0m\u001b[0mremove\u001b[0m\u001b[1;33m(\u001b[0m\u001b[1;34m'sample.txt'\u001b[0m\u001b[1;33m)\u001b[0m\u001b[1;33m\u001b[0m\u001b[1;33m\u001b[0m\u001b[0m\n\u001b[0m",
      "\u001b[1;31mFileNotFoundError\u001b[0m: [WinError 2] 지정된 파일을 찾을 수 없습니다: 'sample.txt'"
     ]
    }
   ],
   "source": [
    "os.remove('sample.txt')"
   ]
  },
  {
   "cell_type": "code",
   "execution_count": 85,
   "metadata": {
    "ExecuteTime": {
     "end_time": "2020-09-10T06:49:57.806697Z",
     "start_time": "2020-09-10T06:49:57.797137Z"
    }
   },
   "outputs": [
    {
     "ename": "TypeError",
     "evalue": "write() argument must be str, not list",
     "output_type": "error",
     "traceback": [
      "\u001b[1;31m---------------------------------------------------------------------------\u001b[0m",
      "\u001b[1;31mTypeError\u001b[0m                                 Traceback (most recent call last)",
      "\u001b[1;32m<ipython-input-85-40bcad5267e5>\u001b[0m in \u001b[0;36m<module>\u001b[1;34m\u001b[0m\n\u001b[0;32m      1\u001b[0m \u001b[1;32mwith\u001b[0m \u001b[0mopen\u001b[0m\u001b[1;33m(\u001b[0m\u001b[1;34m'test2.txt'\u001b[0m\u001b[1;33m,\u001b[0m\u001b[1;34m'w'\u001b[0m\u001b[1;33m)\u001b[0m \u001b[1;32mas\u001b[0m \u001b[0mfile\u001b[0m\u001b[1;33m:\u001b[0m\u001b[1;33m\u001b[0m\u001b[1;33m\u001b[0m\u001b[0m\n\u001b[1;32m----> 2\u001b[1;33m      \u001b[0mfile\u001b[0m\u001b[1;33m.\u001b[0m\u001b[0mwrite\u001b[0m\u001b[1;33m(\u001b[0m\u001b[1;33m(\u001b[0m\u001b[0mos\u001b[0m\u001b[1;33m.\u001b[0m\u001b[0mlistdir\u001b[0m\u001b[1;33m(\u001b[0m\u001b[1;33m)\u001b[0m\u001b[1;33m)\u001b[0m\u001b[1;33m)\u001b[0m\u001b[1;33m\u001b[0m\u001b[1;33m\u001b[0m\u001b[0m\n\u001b[0m",
      "\u001b[1;31mTypeError\u001b[0m: write() argument must be str, not list"
     ]
    }
   ],
   "source": [
    "with open('test2.txt','w') as file:\n",
    "     file.write((os.listdir()))\n"
   ]
  },
  {
   "cell_type": "code",
   "execution_count": 87,
   "metadata": {
    "ExecuteTime": {
     "end_time": "2020-09-10T06:50:21.849848Z",
     "start_time": "2020-09-10T06:50:21.844863Z"
    }
   },
   "outputs": [
    {
     "name": "stdout",
     "output_type": "stream",
     "text": [
      ".ipynb_checkpoints\n",
      "20200910.ipynb\n",
      "ex20200826-28.ipynb\n",
      "firstPython.ipynb\n",
      "python-강사님코드\n",
      "test.py\n",
      "test.txt\n",
      "test2.txt\n"
     ]
    }
   ],
   "source": [
    "for item in os.listdir():\n",
    "    print(item)"
   ]
  },
  {
   "cell_type": "code",
   "execution_count": 101,
   "metadata": {
    "ExecuteTime": {
     "end_time": "2020-09-10T07:12:14.279319Z",
     "start_time": "2020-09-10T07:12:14.270134Z"
    }
   },
   "outputs": [
    {
     "name": "stdout",
     "output_type": "stream",
     "text": [
      ".ipynb_checkpoints\n",
      "20200910.ipynb\n",
      "ex20200826-28.ipynb\n",
      "firstPython.ipynb\n",
      "python-강사님코드\n",
      "test.py\n",
      "test.txt\n",
      "test2.txt\n",
      "test3.txt\n"
     ]
    }
   ],
   "source": [
    "with open('test3.txt','w',encoding='utf8') as file:\n",
    "    for item in os.listdir():\n",
    "        print(item)\n",
    "        file.write(item+'\\n')        "
   ]
  },
  {
   "cell_type": "code",
   "execution_count": 104,
   "metadata": {
    "ExecuteTime": {
     "end_time": "2020-09-10T07:14:45.435965Z",
     "start_time": "2020-09-10T07:14:45.372125Z"
    }
   },
   "outputs": [],
   "source": [
    "import time\n",
    "\n",
    "time.sleep(0.06)"
   ]
  }
 ],
 "metadata": {
  "kernelspec": {
   "display_name": "Python 3",
   "language": "python",
   "name": "python3"
  },
  "language_info": {
   "codemirror_mode": {
    "name": "ipython",
    "version": 3
   },
   "file_extension": ".py",
   "mimetype": "text/x-python",
   "name": "python",
   "nbconvert_exporter": "python",
   "pygments_lexer": "ipython3",
   "version": "3.8.3"
  },
  "toc": {
   "base_numbering": 1,
   "nav_menu": {},
   "number_sections": true,
   "sideBar": true,
   "skip_h1_title": false,
   "title_cell": "Table of Contents",
   "title_sidebar": "Contents",
   "toc_cell": false,
   "toc_position": {},
   "toc_section_display": true,
   "toc_window_display": false
  },
  "varInspector": {
   "cols": {
    "lenName": 16,
    "lenType": 16,
    "lenVar": 40
   },
   "kernels_config": {
    "python": {
     "delete_cmd_postfix": "",
     "delete_cmd_prefix": "del ",
     "library": "var_list.py",
     "varRefreshCmd": "print(var_dic_list())"
    },
    "r": {
     "delete_cmd_postfix": ") ",
     "delete_cmd_prefix": "rm(",
     "library": "var_list.r",
     "varRefreshCmd": "cat(var_dic_list()) "
    }
   },
   "types_to_exclude": [
    "module",
    "function",
    "builtin_function_or_method",
    "instance",
    "_Feature"
   ],
   "window_display": false
  }
 },
 "nbformat": 4,
 "nbformat_minor": 4
}
